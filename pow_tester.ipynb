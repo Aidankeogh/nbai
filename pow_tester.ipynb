{
 "metadata": {
  "language_info": {
   "codemirror_mode": {
    "name": "ipython",
    "version": 3
   },
   "file_extension": ".py",
   "mimetype": "text/x-python",
   "name": "python",
   "nbconvert_exporter": "python",
   "pygments_lexer": "ipython3",
   "version": "3.8.5"
  },
  "orig_nbformat": 2,
  "kernelspec": {
   "name": "python3",
   "display_name": "Python 3.8.5 64-bit ('anaconda3': virtualenv)",
   "metadata": {
    "interpreter": {
     "hash": "4d777b8f6e85f47614db9219611b089ffc178d32a44539f41af5ea47da0b384a"
    }
   }
  }
 },
 "nbformat": 4,
 "nbformat_minor": 2,
 "cells": [
  {
   "source": [
    "import h5py\n",
    "from src.pow_dataset import NbaPosessionDataset\n",
    "from src.pow_trainer import train_model"
   ],
   "cell_type": "code",
   "metadata": {},
   "execution_count": 1,
   "outputs": []
  },
  {
   "cell_type": "code",
   "execution_count": 2,
   "metadata": {},
   "outputs": [],
   "source": [
    "db = h5py.File(\"cache/full_db.h5\", \"a\")\n",
    "dset = NbaPosessionDataset(db, \"pow_dset\")\n",
    "db.close()"
   ]
  },
  {
   "cell_type": "code",
   "execution_count": 3,
   "metadata": {
    "tags": []
   },
   "outputs": [
    {
     "output_type": "stream",
     "name": "stdout",
     "text": [
      "Starting training pownet(\n",
      "  (bn): BatchNorm1d(2, eps=1e-05, momentum=0.1, affine=True, track_running_stats=True)\n",
      "  (order_1): Linear(in_features=2, out_features=1, bias=True)\n",
      "  (order_2): Linear(in_features=2, out_features=1, bias=True)\n",
      ")\n",
      "e0:\tloss 667.055\tacc 0.720\ttime 18\tlabel 1.0\tpred 0.986\tfeat[81, 72, 135]\n",
      "e1:\tloss 645.319\tacc 0.730\ttime 18\tlabel 0.0\tpred 0.889\tfeat[78, 65, 1120]\n",
      "e2:\tloss 645.182\tacc 0.731\ttime 18\tlabel 1.0\tpred 0.573\tfeat[19, 17, 2374]\n",
      "e3:\tloss 645.172\tacc 0.731\ttime 18\tlabel 1.0\tpred 0.859\tfeat[70, 60, 853]\n",
      "e4:\tloss 645.182\tacc 0.731\ttime 18\tlabel 0.0\tpred 0.248\tfeat[37, 45, 1440]\n",
      "e5:\tloss 645.267\tacc 0.730\ttime 18\tlabel 0.0\tpred 0.249\tfeat[13, 23, 2255]\n",
      "e6:\tloss 645.154\tacc 0.731\ttime 18\tlabel 0.0\tpred 0.020\tfeat[58, 81, 940]\n",
      "e7:\tloss 645.182\tacc 0.731\ttime 18\tlabel 1.0\tpred 0.685\tfeat[47, 41, 1750]\n",
      "e8:\tloss 645.197\tacc 0.731\ttime 18\tlabel 0.0\tpred 0.336\tfeat[27, 33, 1976]\n",
      "e9:\tloss 645.175\tacc 0.731\ttime 18\tlabel 1.0\tpred 0.591\tfeat[52, 49, 1576]\n",
      "e10:\tloss 645.175\tacc 0.731\ttime 18\tlabel 1.0\tpred 0.552\tfeat[48, 47, 1646]\n",
      "e11:\tloss 645.235\tacc 0.731\ttime 18\tlabel 0.0\tpred 0.201\tfeat[30, 41, 2042]\n",
      "e12:\tloss 645.204\tacc 0.731\ttime 18\tlabel 0.0\tpred 0.590\tfeat[9, 6, 2590]\n",
      "e13:\tloss 645.214\tacc 0.731\ttime 18\tlabel 0.0\tpred 0.120\tfeat[107, 112, 160]\n",
      "e14:\tloss 645.194\tacc 0.730\ttime 18\tlabel 1.0\tpred 0.688\tfeat[20, 13, 2385]\n",
      "e15:\tloss 645.196\tacc 0.731\ttime 18\tlabel 0.0\tpred 0.473\tfeat[46, 47, 1387]\n",
      "e16:\tloss 645.174\tacc 0.731\ttime 18\tlabel 1.0\tpred 0.678\tfeat[56, 51, 1368]\n",
      "e17:\tloss 645.167\tacc 0.731\ttime 18\tlabel 0.0\tpred 0.476\tfeat[16, 17, 2491]\n",
      "e18:\tloss 645.235\tacc 0.730\ttime 18\tlabel 0.0\tpred 0.835\tfeat[50, 37, 1841]\n",
      "e19:\tloss 645.191\tacc 0.731\ttime 18\tlabel 1.0\tpred 0.468\tfeat[72, 73, 978]\n"
     ]
    }
   ],
   "source": [
    "train_model(dset, batch_size=3200)"
   ]
  },
  {
   "cell_type": "code",
   "execution_count": 4,
   "metadata": {},
   "outputs": [
    {
     "output_type": "stream",
     "name": "stdout",
     "text": [
      "tensor(4.9282)\n"
     ]
    },
    {
     "output_type": "execute_result",
     "data": {
      "text/plain": [
       "tensor([0.7257])"
      ]
     },
     "metadata": {},
     "execution_count": 4
    }
   ],
   "source": [
    "import torch\n",
    "from torch import Tensor as T\n",
    "from torch.distributions.normal import Normal\n",
    "dist = Normal(0, 5)\n",
    "print(dist.sample())\n",
    "dist.cdf(T([3]))"
   ]
  },
  {
   "cell_type": "code",
   "execution_count": null,
   "metadata": {},
   "outputs": [],
   "source": []
  }
 ]
}