{
 "metadata": {
  "language_info": {
   "codemirror_mode": {
    "name": "ipython",
    "version": 3
   },
   "file_extension": ".py",
   "mimetype": "text/x-python",
   "name": "python",
   "nbconvert_exporter": "python",
   "pygments_lexer": "ipython3",
   "version": "3.8.5"
  },
  "orig_nbformat": 2,
  "kernelspec": {
   "name": "python3",
   "display_name": "Python 3.8.5 64-bit ('base': conda)",
   "metadata": {
    "interpreter": {
     "hash": "4d777b8f6e85f47614db9219611b089ffc178d32a44539f41af5ea47da0b384a"
    }
   }
  }
 },
 "nbformat": 4,
 "nbformat_minor": 2,
 "cells": [
  {
   "cell_type": "code",
   "execution_count": 27,
   "metadata": {},
   "outputs": [],
   "source": [
    "from src.loader_pipeline import open_db, DB_NAME\n",
    "from src.data.play import Play, data_keys, slice_keys\n",
    "import h5py\n",
    "import torch\n",
    "import torch.tensor as t"
   ]
  },
  {
   "cell_type": "code",
   "execution_count": 28,
   "metadata": {},
   "outputs": [],
   "source": [
    "e = torch.nn.Embedding(400, 100)"
   ]
  },
  {
   "cell_type": "code",
   "execution_count": 32,
   "metadata": {
    "tags": []
   },
   "outputs": [
    {
     "output_type": "stream",
     "name": "stdout",
     "text": [
      "torch.Size([5, 100])\ntorch.Size([5, 100])\ntorch.Size([5, 100])\ntorch.Size([5, 100])\ntorch.Size([5, 100])\ntorch.Size([5, 100])\ntorch.Size([5, 100])\ntorch.Size([5, 100])\ntorch.Size([5, 100])\ntorch.Size([5, 100])\ntorch.Size([5, 100])\ntorch.Size([5, 100])\ntorch.Size([5, 100])\ntorch.Size([5, 100])\ntorch.Size([5, 100])\ntorch.Size([5, 100])\ntorch.Size([5, 100])\ntorch.Size([5, 100])\ntorch.Size([5, 100])\ntorch.Size([5, 100])\ntorch.Size([5, 100])\ntorch.Size([5, 100])\ntorch.Size([5, 100])\ntorch.Size([5, 100])\ntorch.Size([5, 100])\ntorch.Size([5, 100])\ntorch.Size([5, 100])\ntorch.Size([5, 100])\ntorch.Size([5, 100])\ntorch.Size([5, 100])\ntorch.Size([5, 100])\ntorch.Size([5, 100])\ntorch.Size([5, 100])\ntorch.Size([5, 100])\ntorch.Size([5, 100])\ntorch.Size([5, 100])\ntorch.Size([5, 100])\ntorch.Size([5, 100])\ntorch.Size([5, 100])\ntorch.Size([5, 100])\ntorch.Size([5, 100])\ntorch.Size([5, 100])\ntorch.Size([5, 100])\ntorch.Size([5, 100])\ntorch.Size([5, 100])\ntorch.Size([5, 100])\ntorch.Size([5, 100])\ntorch.Size([5, 100])\ntorch.Size([5, 100])\ntorch.Size([5, 100])\ntorch.Size([5, 100])\ntorch.Size([5, 100])\ntorch.Size([5, 100])\ntorch.Size([5, 100])\ntorch.Size([5, 100])\ntorch.Size([5, 100])\ntorch.Size([5, 100])\ntorch.Size([5, 100])\ntorch.Size([5, 100])\ntorch.Size([5, 100])\ntorch.Size([5, 100])\ntorch.Size([5, 100])\ntorch.Size([5, 100])\ntorch.Size([5, 100])\ntorch.Size([5, 100])\ntorch.Size([5, 100])\ntorch.Size([5, 100])\ntorch.Size([5, 100])\ntorch.Size([5, 100])\ntorch.Size([5, 100])\ntorch.Size([5, 100])\ntorch.Size([5, 100])\ntorch.Size([5, 100])\ntorch.Size([5, 100])\ntorch.Size([5, 100])\ntorch.Size([5, 100])\ntorch.Size([5, 100])\ntorch.Size([5, 100])\ntorch.Size([5, 100])\ntorch.Size([5, 100])\ntorch.Size([5, 100])\ntorch.Size([5, 100])\ntorch.Size([5, 100])\ntorch.Size([5, 100])\ntorch.Size([5, 100])\ntorch.Size([5, 100])\ntorch.Size([5, 100])\ntorch.Size([5, 100])\ntorch.Size([5, 100])\ntorch.Size([5, 100])\ntorch.Size([5, 100])\ntorch.Size([5, 100])\ntorch.Size([5, 100])\ntorch.Size([5, 100])\ntorch.Size([5, 100])\ntorch.Size([5, 100])\ntorch.Size([5, 100])\ntorch.Size([5, 100])\ntorch.Size([5, 100])\ntorch.Size([5, 100])\ntorch.Size([5, 100])\ntorch.Size([5, 100])\ntorch.Size([5, 100])\ntorch.Size([5, 100])\ntorch.Size([5, 100])\ntorch.Size([5, 100])\ntorch.Size([5, 100])\ntorch.Size([5, 100])\ntorch.Size([5, 100])\ntorch.Size([5, 100])\ntorch.Size([5, 100])\ntorch.Size([5, 100])\ntorch.Size([5, 100])\ntorch.Size([5, 100])\ntorch.Size([5, 100])\ntorch.Size([5, 100])\ntorch.Size([5, 100])\ntorch.Size([5, 100])\ntorch.Size([5, 100])\ntorch.Size([5, 100])\ntorch.Size([5, 100])\ntorch.Size([5, 100])\ntorch.Size([5, 100])\ntorch.Size([5, 100])\ntorch.Size([5, 100])\ntorch.Size([5, 100])\ntorch.Size([5, 100])\ntorch.Size([5, 100])\ntorch.Size([5, 100])\ntorch.Size([5, 100])\ntorch.Size([5, 100])\ntorch.Size([5, 100])\ntorch.Size([5, 100])\ntorch.Size([5, 100])\ntorch.Size([5, 100])\ntorch.Size([5, 100])\ntorch.Size([5, 100])\ntorch.Size([5, 100])\ntorch.Size([5, 100])\ntorch.Size([5, 100])\ntorch.Size([5, 100])\ntorch.Size([5, 100])\ntorch.Size([5, 100])\ntorch.Size([5, 100])\ntorch.Size([5, 100])\ntorch.Size([5, 100])\ntorch.Size([5, 100])\ntorch.Size([5, 100])\ntorch.Size([5, 100])\ntorch.Size([5, 100])\ntorch.Size([5, 100])\ntorch.Size([5, 100])\ntorch.Size([5, 100])\ntorch.Size([5, 100])\ntorch.Size([5, 100])\ntorch.Size([5, 100])\ntorch.Size([5, 100])\ntorch.Size([5, 100])\ntorch.Size([5, 100])\ntorch.Size([5, 100])\ntorch.Size([5, 100])\ntorch.Size([5, 100])\ntorch.Size([5, 100])\ntorch.Size([5, 100])\ntorch.Size([5, 100])\ntorch.Size([5, 100])\ntorch.Size([5, 100])\ntorch.Size([5, 100])\ntorch.Size([5, 100])\ntorch.Size([5, 100])\ntorch.Size([5, 100])\ntorch.Size([5, 100])\ntorch.Size([5, 100])\ntorch.Size([5, 100])\ntorch.Size([5, 100])\ntorch.Size([5, 100])\ntorch.Size([5, 100])\ntorch.Size([5, 100])\ntorch.Size([5, 100])\ntorch.Size([5, 100])\ntorch.Size([5, 100])\ntorch.Size([5, 100])\ntorch.Size([5, 100])\ntorch.Size([5, 100])\ntorch.Size([5, 100])\ntorch.Size([5, 100])\ntorch.Size([5, 100])\ntorch.Size([5, 100])\ntorch.Size([5, 100])\ntorch.Size([5, 100])\ntorch.Size([5, 100])\ntorch.Size([5, 100])\ntorch.Size([5, 100])\ntorch.Size([5, 100])\ntorch.Size([5, 100])\ntorch.Size([5, 100])\ntorch.Size([5, 100])\ntorch.Size([5, 100])\ntorch.Size([5, 100])\ntorch.Size([5, 100])\ntorch.Size([5, 100])\ntorch.Size([5, 100])\n"
     ]
    },
    {
     "output_type": "error",
     "ename": "IndexError",
     "evalue": "index out of range in self",
     "traceback": [
      "\u001b[0;31m---------------------------------------------------------------------------\u001b[0m",
      "\u001b[0;31mIndexError\u001b[0m                                Traceback (most recent call last)",
      "\u001b[0;32m<ipython-input-32-3463728d8c62>\u001b[0m in \u001b[0;36m<module>\u001b[0;34m\u001b[0m\n\u001b[1;32m      3\u001b[0m         \u001b[0moffense\u001b[0m \u001b[0;34m=\u001b[0m \u001b[0mt\u001b[0m\u001b[0;34m(\u001b[0m\u001b[0mplay\u001b[0m\u001b[0;34m[\u001b[0m\u001b[0mslice_keys\u001b[0m\u001b[0;34m[\u001b[0m\u001b[0;34m\"offense_roster\"\u001b[0m\u001b[0;34m]\u001b[0m\u001b[0;34m]\u001b[0m\u001b[0;34m)\u001b[0m\u001b[0;34m.\u001b[0m\u001b[0mlong\u001b[0m\u001b[0;34m(\u001b[0m\u001b[0;34m)\u001b[0m\u001b[0;34m\u001b[0m\u001b[0;34m\u001b[0m\u001b[0m\n\u001b[1;32m      4\u001b[0m         \u001b[0mdefense\u001b[0m \u001b[0;34m=\u001b[0m \u001b[0mt\u001b[0m\u001b[0;34m(\u001b[0m\u001b[0mplay\u001b[0m\u001b[0;34m[\u001b[0m\u001b[0mslice_keys\u001b[0m\u001b[0;34m[\u001b[0m\u001b[0;34m\"defense_roster\"\u001b[0m\u001b[0;34m]\u001b[0m\u001b[0;34m]\u001b[0m\u001b[0;34m)\u001b[0m\u001b[0;34m.\u001b[0m\u001b[0mlong\u001b[0m\u001b[0;34m(\u001b[0m\u001b[0;34m)\u001b[0m\u001b[0;34m\u001b[0m\u001b[0;34m\u001b[0m\u001b[0m\n\u001b[0;32m----> 5\u001b[0;31m         \u001b[0mprint\u001b[0m\u001b[0;34m(\u001b[0m\u001b[0me\u001b[0m\u001b[0;34m(\u001b[0m\u001b[0moffense\u001b[0m\u001b[0;34m)\u001b[0m\u001b[0;34m.\u001b[0m\u001b[0mshape\u001b[0m\u001b[0;34m)\u001b[0m\u001b[0;34m\u001b[0m\u001b[0;34m\u001b[0m\u001b[0m\n\u001b[0m",
      "\u001b[0;32m~/opt/anaconda3/lib/python3.8/site-packages/torch/nn/modules/module.py\u001b[0m in \u001b[0;36m_call_impl\u001b[0;34m(self, *input, **kwargs)\u001b[0m\n\u001b[1;32m    887\u001b[0m             \u001b[0mresult\u001b[0m \u001b[0;34m=\u001b[0m \u001b[0mself\u001b[0m\u001b[0;34m.\u001b[0m\u001b[0m_slow_forward\u001b[0m\u001b[0;34m(\u001b[0m\u001b[0;34m*\u001b[0m\u001b[0minput\u001b[0m\u001b[0;34m,\u001b[0m \u001b[0;34m**\u001b[0m\u001b[0mkwargs\u001b[0m\u001b[0;34m)\u001b[0m\u001b[0;34m\u001b[0m\u001b[0;34m\u001b[0m\u001b[0m\n\u001b[1;32m    888\u001b[0m         \u001b[0;32melse\u001b[0m\u001b[0;34m:\u001b[0m\u001b[0;34m\u001b[0m\u001b[0;34m\u001b[0m\u001b[0m\n\u001b[0;32m--> 889\u001b[0;31m             \u001b[0mresult\u001b[0m \u001b[0;34m=\u001b[0m \u001b[0mself\u001b[0m\u001b[0;34m.\u001b[0m\u001b[0mforward\u001b[0m\u001b[0;34m(\u001b[0m\u001b[0;34m*\u001b[0m\u001b[0minput\u001b[0m\u001b[0;34m,\u001b[0m \u001b[0;34m**\u001b[0m\u001b[0mkwargs\u001b[0m\u001b[0;34m)\u001b[0m\u001b[0;34m\u001b[0m\u001b[0;34m\u001b[0m\u001b[0m\n\u001b[0m\u001b[1;32m    890\u001b[0m         for hook in itertools.chain(\n\u001b[1;32m    891\u001b[0m                 \u001b[0m_global_forward_hooks\u001b[0m\u001b[0;34m.\u001b[0m\u001b[0mvalues\u001b[0m\u001b[0;34m(\u001b[0m\u001b[0;34m)\u001b[0m\u001b[0;34m,\u001b[0m\u001b[0;34m\u001b[0m\u001b[0;34m\u001b[0m\u001b[0m\n",
      "\u001b[0;32m~/opt/anaconda3/lib/python3.8/site-packages/torch/nn/modules/sparse.py\u001b[0m in \u001b[0;36mforward\u001b[0;34m(self, input)\u001b[0m\n\u001b[1;32m    143\u001b[0m \u001b[0;34m\u001b[0m\u001b[0m\n\u001b[1;32m    144\u001b[0m     \u001b[0;32mdef\u001b[0m \u001b[0mforward\u001b[0m\u001b[0;34m(\u001b[0m\u001b[0mself\u001b[0m\u001b[0;34m,\u001b[0m \u001b[0minput\u001b[0m\u001b[0;34m:\u001b[0m \u001b[0mTensor\u001b[0m\u001b[0;34m)\u001b[0m \u001b[0;34m->\u001b[0m \u001b[0mTensor\u001b[0m\u001b[0;34m:\u001b[0m\u001b[0;34m\u001b[0m\u001b[0;34m\u001b[0m\u001b[0m\n\u001b[0;32m--> 145\u001b[0;31m         return F.embedding(\n\u001b[0m\u001b[1;32m    146\u001b[0m             \u001b[0minput\u001b[0m\u001b[0;34m,\u001b[0m \u001b[0mself\u001b[0m\u001b[0;34m.\u001b[0m\u001b[0mweight\u001b[0m\u001b[0;34m,\u001b[0m \u001b[0mself\u001b[0m\u001b[0;34m.\u001b[0m\u001b[0mpadding_idx\u001b[0m\u001b[0;34m,\u001b[0m \u001b[0mself\u001b[0m\u001b[0;34m.\u001b[0m\u001b[0mmax_norm\u001b[0m\u001b[0;34m,\u001b[0m\u001b[0;34m\u001b[0m\u001b[0;34m\u001b[0m\u001b[0m\n\u001b[1;32m    147\u001b[0m             self.norm_type, self.scale_grad_by_freq, self.sparse)\n",
      "\u001b[0;32m~/opt/anaconda3/lib/python3.8/site-packages/torch/nn/functional.py\u001b[0m in \u001b[0;36membedding\u001b[0;34m(input, weight, padding_idx, max_norm, norm_type, scale_grad_by_freq, sparse)\u001b[0m\n\u001b[1;32m   1911\u001b[0m         \u001b[0;31m# remove once script supports set_grad_enabled\u001b[0m\u001b[0;34m\u001b[0m\u001b[0;34m\u001b[0m\u001b[0;34m\u001b[0m\u001b[0m\n\u001b[1;32m   1912\u001b[0m         \u001b[0m_no_grad_embedding_renorm_\u001b[0m\u001b[0;34m(\u001b[0m\u001b[0mweight\u001b[0m\u001b[0;34m,\u001b[0m \u001b[0minput\u001b[0m\u001b[0;34m,\u001b[0m \u001b[0mmax_norm\u001b[0m\u001b[0;34m,\u001b[0m \u001b[0mnorm_type\u001b[0m\u001b[0;34m)\u001b[0m\u001b[0;34m\u001b[0m\u001b[0;34m\u001b[0m\u001b[0m\n\u001b[0;32m-> 1913\u001b[0;31m     \u001b[0;32mreturn\u001b[0m \u001b[0mtorch\u001b[0m\u001b[0;34m.\u001b[0m\u001b[0membedding\u001b[0m\u001b[0;34m(\u001b[0m\u001b[0mweight\u001b[0m\u001b[0;34m,\u001b[0m \u001b[0minput\u001b[0m\u001b[0;34m,\u001b[0m \u001b[0mpadding_idx\u001b[0m\u001b[0;34m,\u001b[0m \u001b[0mscale_grad_by_freq\u001b[0m\u001b[0;34m,\u001b[0m \u001b[0msparse\u001b[0m\u001b[0;34m)\u001b[0m\u001b[0;34m\u001b[0m\u001b[0;34m\u001b[0m\u001b[0m\n\u001b[0m\u001b[1;32m   1914\u001b[0m \u001b[0;34m\u001b[0m\u001b[0m\n\u001b[1;32m   1915\u001b[0m \u001b[0;34m\u001b[0m\u001b[0m\n",
      "\u001b[0;31mIndexError\u001b[0m: index out of range in self"
     ]
    }
   ],
   "source": [
    "with h5py.File(DB_NAME, 'a') as db:\n",
    "    for play in db[\"raw_data/2001_playoffs/plays\"]:\n",
    "        offense = t(play[slice_keys[\"offense_roster\"]]).long()\n",
    "        defense = t(play[slice_keys[\"defense_roster\"]]).long()\n",
    "        print(e(offense).shape)"
   ]
  },
  {
   "cell_type": "code",
   "execution_count": null,
   "metadata": {},
   "outputs": [],
   "source": []
  }
 ]
}