{
 "metadata": {
  "language_info": {
   "codemirror_mode": {
    "name": "ipython",
    "version": 3
   },
   "file_extension": ".py",
   "mimetype": "text/x-python",
   "name": "python",
   "nbconvert_exporter": "python",
   "pygments_lexer": "ipython3",
   "version": "3.8.5-final"
  },
  "orig_nbformat": 2,
  "kernelspec": {
   "name": "python3",
   "display_name": "Python 3.8.5 64-bit ('nbai': conda)",
   "metadata": {
    "interpreter": {
     "hash": "262b0aec1c0b8af5b61e2fd183f0bfdea6ba8c11aecf1d3c8691a94f47a4fec8"
    }
   }
  }
 },
 "nbformat": 4,
 "nbformat_minor": 2,
 "cells": [
  {
   "cell_type": "code",
   "execution_count": 1,
   "metadata": {},
   "outputs": [],
   "source": [
    "import yaml\n",
    "from src.load_configs import load_config\n",
    "\n",
    "config, modules = load_config(\"dev\")"
   ]
  },
  {
   "cell_type": "code",
   "execution_count": 3,
   "metadata": {},
   "outputs": [],
   "source": [
    "db = modules['db'].get_connection(config)"
   ]
  },
  {
   "cell_type": "code",
   "execution_count": 4,
   "metadata": {},
   "outputs": [],
   "source": [
    "# Add input (raw) data to database. Kind of like current redis, but to a more scalable DB. \n",
    "# can still use set arithmetic to do retreivals\n",
    "if config['loader']['key'] not in db:\n",
    "    modules['loader'].load_stats(config, db)"
   ]
  },
  {
   "cell_type": "code",
   "execution_count": 5,
   "metadata": {},
   "outputs": [],
   "source": [
    "# Create dataset to train model\n",
    "if config['dataset']['key'] not in db:\n",
    "    modules['dataset'].create_dataset(config, db) # data is current redis db. Here we'll use redis as a cache. "
   ]
  },
  {
   "cell_type": "code",
   "execution_count": 6,
   "metadata": {},
   "outputs": [],
   "source": [
    "# Train model, serialize it and add to DB\n",
    "if config['trainer']['key'] not in db:\n",
    "    modules['trainer'].train_model(config, db)"
   ]
  },
  {
   "cell_type": "code",
   "execution_count": 7,
   "metadata": {},
   "outputs": [
    {
     "output_type": "stream",
     "name": "stdout",
     "text": [
      "(evaluator.fakes.0.0.0)-(trainer.fakes.0.0.0)-(dataset.fakes.0.0.0)-(loader.fakes.0.0.0)-(loader.fakes.0.0.0) [0.125, 0.375, 0.625]\n"
     ]
    }
   ],
   "source": [
    "# Create various output stats, and report them if necessary (e.g. to spreadsheet)\n",
    "if config['evaluator']['key'] not in db:\n",
    "    modules['evaluator'].create_eval_stat(config, db)\n",
    "    modules['evaluator'].report_eval_stat(config, db)"
   ]
  },
  {
   "cell_type": "code",
   "execution_count": 8,
   "metadata": {},
   "outputs": [
    {
     "output_type": "stream",
     "name": "stdout",
     "text": [
      "---____[0.125, 0.375, 0.625]____---\n"
     ]
    }
   ],
   "source": [
    "# Create various output stats, and report them if necessary (e.g. to spreadsheet)\n",
    "if config['visualizer']['key'] not in db:\n",
    "    modules['visualizer'].create_visuals(config, db)\n",
    "modules['visualizer'].display_visuals(config, db)"
   ]
  }
 ]
}