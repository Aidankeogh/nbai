{
 "metadata": {
  "language_info": {
   "codemirror_mode": {
    "name": "ipython",
    "version": 3
   },
   "file_extension": ".py",
   "mimetype": "text/x-python",
   "name": "python",
   "nbconvert_exporter": "python",
   "pygments_lexer": "ipython3",
   "version": "3.8.5"
  },
  "orig_nbformat": 2,
  "kernelspec": {
   "name": "python3",
   "display_name": "Python 3.8.5 64-bit ('anaconda3': virtualenv)",
   "metadata": {
    "interpreter": {
     "hash": "4d777b8f6e85f47614db9219611b089ffc178d32a44539f41af5ea47da0b384a"
    }
   }
  }
 },
 "nbformat": 4,
 "nbformat_minor": 2,
 "cells": [
  {
   "source": [
    "from src.data.batch_loader import load_raw_data, accumulate_box_stats\n",
    "from src.data.game import Game\n",
    "import h5py"
   ],
   "cell_type": "code",
   "metadata": {},
   "execution_count": 2,
   "outputs": []
  },
  {
   "cell_type": "code",
   "execution_count": 2,
   "metadata": {},
   "outputs": [
    {
     "output_type": "stream",
     "name": "stdout",
     "text": [
      "Shooting <StatsFoul GameId: 0041700164, Description: Turner S.FOUL (P2.T4) (K.Fitzgerald), Time: 1:26, EventNum: 294>\n",
      "Shooting <StatsFoul GameId: 0021700021, Description: Middleton S.FOUL (P1.T3) (G.Petraitis), Time: 6:21, EventNum: 72>\n",
      "Shooting <StatsFoul GameId: 0021700035, Description: Richardson S.FOUL (P1.T4) (M.Callahan), Time: 0:51, EventNum: 468>\n",
      "Shooting <StatsFoul GameId: 0021700050, Description: Russell S.FOUL (P2.PN) (E.Lewis), Time: 2:20, EventNum: 714>\n",
      "2 (12 PTS)\n",
      "Shooting <StatsFoul GameId: 0021700236, Description: Dinwiddie S.FOUL (P2.T2) (B.Taylor), Time: 4:03, EventNum: 186>\n",
      "Shooting <StatsFoul GameId: 0021700285, Description: Ingles S.FOUL (P2.T2) (S.Twardoski), Time: 5:31, EventNum: 380>\n",
      "Shooting <StatsFoul GameId: 0021700407, Description: Baynes S.FOUL (P2.PN) (B.Spooner), Time: 0:28, EventNum: 385>\n",
      "Shooting <StatsFoul GameId: 0021700514, Description: O'Neale S.FOUL (P1.T3) (K.Lane), Time: 5:09, EventNum: 243>\n",
      "Shooting <StatsFoul GameId: 0021700535, Description: Livingston S.FOUL (P3.PN) (N.Buchert), Time: 4:53, EventNum: 579>\n",
      "Shooting <StatsFoul GameId: 0021701070, Description: Brown S.FOUL (P3.PN) (M.Kogut), Time: 5:39, EventNum: 253>\n"
     ]
    }
   ],
   "source": [
    "db = h5py.File(\"full_db.h5\", 'a')\n",
    "load_raw_data(db, years=range(2001, 2020))\n",
    "db.close()"
   ]
  },
  {
   "cell_type": "code",
   "execution_count": null,
   "metadata": {},
   "outputs": [],
   "source": [
    "db = h5py.File(\"full_db.h5\", 'a')\n",
    "accumulate_box_stats(db, years=range(2001, 2020))\n",
    "db.close()"
   ]
  },
  {
   "cell_type": "code",
   "execution_count": 4,
   "metadata": {},
   "outputs": [
    {
     "output_type": "stream",
     "name": "stdout",
     "text": [
      "2018\n"
     ]
    }
   ],
   "source": [
    "db = h5py.File(\"full_db.h5\", \"r\")\n",
    "with open(\"metadata/rosters/2016_regular\", \"rb\") as f:\n",
    "    rosters = msgpack.load(f)\n",
    "box_stats = Box_stats(rosters['GSW'], db['2016_regular/stats/GSW'][:])\n",
    "db.close()"
   ]
  },
  {
   "cell_type": "code",
   "execution_count": 6,
   "metadata": {},
   "outputs": [
    {
     "output_type": "error",
     "ename": "KeyError",
     "evalue": "'seasons'",
     "traceback": [
      "\u001b[0;31m---------------------------------------------------------------------------\u001b[0m",
      "\u001b[0;31mKeyError\u001b[0m                                  Traceback (most recent call last)",
      "\u001b[0;32m<ipython-input-6-4f50a74834d1>\u001b[0m in \u001b[0;36m<module>\u001b[0;34m\u001b[0m\n\u001b[0;32m----> 1\u001b[0;31m \u001b[0mbox_stats\u001b[0m \u001b[0;34m=\u001b[0m \u001b[0mout_data\u001b[0m\u001b[0;34m[\u001b[0m\u001b[0;34m'seasons'\u001b[0m\u001b[0;34m]\u001b[0m\u001b[0;34m[\u001b[0m\u001b[0;36m0\u001b[0m\u001b[0;34m]\u001b[0m\u001b[0;34m[\u001b[0m\u001b[0;34m'stats'\u001b[0m\u001b[0;34m]\u001b[0m\u001b[0;34m[\u001b[0m\u001b[0;34m'GSW'\u001b[0m\u001b[0;34m]\u001b[0m\u001b[0;34m\u001b[0m\u001b[0;34m\u001b[0m\u001b[0m\n\u001b[0m\u001b[1;32m      2\u001b[0m \u001b[0mprint\u001b[0m\u001b[0;34m(\u001b[0m\u001b[0mbox_stats\u001b[0m\u001b[0;34m)\u001b[0m\u001b[0;34m\u001b[0m\u001b[0;34m\u001b[0m\u001b[0m\n\u001b[1;32m      3\u001b[0m \u001b[0msteph_stats\u001b[0m \u001b[0;34m=\u001b[0m \u001b[0mbox_stats\u001b[0m\u001b[0;34m[\u001b[0m\u001b[0;34m'stephen-curry'\u001b[0m\u001b[0;34m,\u001b[0m\u001b[0;34m:\u001b[0m\u001b[0;34m]\u001b[0m\u001b[0;34m\u001b[0m\u001b[0;34m\u001b[0m\u001b[0m\n\u001b[1;32m      4\u001b[0m \u001b[0mincorrect_steph_stats\u001b[0m \u001b[0;34m=\u001b[0m \u001b[0;34m[\u001b[0m\u001b[0;36m379\u001b[0m\u001b[0;34m,\u001b[0m \u001b[0;36m155\u001b[0m\u001b[0;34m,\u001b[0m \u001b[0;36m73\u001b[0m\u001b[0;34m,\u001b[0m \u001b[0;36m64\u001b[0m\u001b[0;34m,\u001b[0m \u001b[0;36m162\u001b[0m\u001b[0;34m,\u001b[0m \u001b[0;36m41\u001b[0m\u001b[0;34m,\u001b[0m \u001b[0;36m38\u001b[0m\u001b[0;34m,\u001b[0m \u001b[0;36m9\u001b[0m\u001b[0;34m,\u001b[0m \u001b[0;36m82\u001b[0m\u001b[0;34m,\u001b[0m \u001b[0;36m81\u001b[0m\u001b[0;34m,\u001b[0m \u001b[0;36m26\u001b[0m\u001b[0;34m,\u001b[0m \u001b[0;36m11\u001b[0m\u001b[0;34m,\u001b[0m \u001b[0;36m43\u001b[0m\u001b[0;34m,\u001b[0m \u001b[0;36m34\u001b[0m\u001b[0;34m,\u001b[0m \u001b[0;36m1300\u001b[0m\u001b[0;34m,\u001b[0m \u001b[0;34m-\u001b[0m\u001b[0;36m1151\u001b[0m\u001b[0;34m,\u001b[0m \u001b[0;36m1228\u001b[0m\u001b[0;34m,\u001b[0m \u001b[0;36m1247\u001b[0m\u001b[0;34m]\u001b[0m\u001b[0;34m\u001b[0m\u001b[0;34m\u001b[0m\u001b[0m\n\u001b[1;32m      5\u001b[0m \u001b[0;31m# This is not quite correct, check out https://www.basketball-reference.com/teams/GSW/2018.html#playoffs_totals\u001b[0m\u001b[0;34m\u001b[0m\u001b[0;34m\u001b[0m\u001b[0;34m\u001b[0m\u001b[0m\n",
      "\u001b[0;31mKeyError\u001b[0m: 'seasons'"
     ]
    }
   ],
   "source": [
    "\n",
    "box_stats = out_data['seasons'][0]['stats']['GSW']\n",
    "print(box_stats)\n",
    "steph_stats = box_stats['stephen-curry',:]\n",
    "incorrect_steph_stats = [379, 155, 73, 64, 162, 41, 38, 9, 82, 81, 26, 11, 43, 34, 1300, -1151, 1228, 1247]\n",
    "# This is not quite correct, check out https://www.basketball-reference.com/teams/GSW/2018.html#playoffs_totals\n",
    "print(steph_stats)\n",
    "print(list(steph_stats))\n",
    "assert list(steph_stats) == incorrect_steph_stats"
   ]
  },
  {
   "cell_type": "code",
   "execution_count": null,
   "metadata": {},
   "outputs": [],
   "source": []
  }
 ]
}