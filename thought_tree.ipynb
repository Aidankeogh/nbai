{
 "metadata": {
  "language_info": {
   "codemirror_mode": {
    "name": "ipython",
    "version": 3
   },
   "file_extension": ".py",
   "mimetype": "text/x-python",
   "name": "python",
   "nbconvert_exporter": "python",
   "pygments_lexer": "ipython3",
   "version": "3.8.5"
  },
  "orig_nbformat": 2,
  "kernelspec": {
   "name": "python3",
   "display_name": "Python 3.8.5 64-bit ('base': conda)",
   "metadata": {
    "interpreter": {
     "hash": "4d777b8f6e85f47614db9219611b089ffc178d32a44539f41af5ea47da0b384a"
    }
   }
  }
 },
 "nbformat": 4,
 "nbformat_minor": 2,
 "cells": [
  {
   "cell_type": "code",
   "execution_count": 6,
   "metadata": {},
   "outputs": [],
   "source": [
    "import h5py\n",
    "import torch\n",
    "from src.data.play import Play, slice_keys\n",
    "from src.utilities.embedding_utilities import n_players\n",
    "from torch.nn import Embedding\n",
    "from torch import Tensor as t"
   ]
  },
  {
   "cell_type": "code",
   "execution_count": 7,
   "metadata": {},
   "outputs": [],
   "source": [
    "db = h5py.File(\"cache/full_db.h5\", \"r\")"
   ]
  },
  {
   "cell_type": "code",
   "execution_count": 8,
   "metadata": {},
   "outputs": [],
   "source": [
    "i = 0\n",
    "plays = []\n",
    "for p in db[\"2016_regular/plays\"][0:10]:\n",
    "    play = Play(p)\n",
    "    plays.append(play)"
   ]
  },
  {
   "cell_type": "code",
   "execution_count": 14,
   "metadata": {},
   "outputs": [
    {
     "output_type": "execute_result",
     "data": {
      "text/plain": [
       "tensor(40.)"
      ]
     },
     "metadata": {},
     "execution_count": 14
    }
   ],
   "source": [
    "data = play.data\n",
    "\n",
    "new_play = Play(data)\n",
    "play.shot_distance"
   ]
  },
  {
   "cell_type": "code",
   "execution_count": null,
   "metadata": {},
   "outputs": [],
   "source": [
    "play"
   ]
  },
  {
   "cell_type": "code",
   "execution_count": 5,
   "metadata": {},
   "outputs": [
    {
     "output_type": "stream",
     "name": "stdout",
     "text": [
      "{'shooter': [{'initial_event': 'shot'}], 'shot_made': [{'initial_event': 'shot'}], 'is_3': [{'initial_event': 'shot'}], 'shot_distance': [{'initial_event': 'shot'}], 'shot_fouled': [{'initial_event': 'shot'}], 'shooting_fouler': [{'shot_fouled': True}], 'assisted': [{'initial_event': 'shot'}], 'assister': [{'initial_event': 'shot'}], 'blocked': [{'shot_made': False}], 'blocker': [{'blocked': True}], 'turnoverer': [{'initial_event': 'turnover'}], 'offensive_foul': [{'initial_event': 'turnover'}], 'offensive_fouler': [{'offensive_foul': True}], 'offensive_foul_drawer': [{'offensive_foul': True}], 'stolen': [{'initial_event': 'turnover'}], 'stealer': [{'stolen': True}], 'over_limit_fouler': [{'initial_event': 'foul_over_limit'}], 'over_limit_foul_drawer': [{'initial_event': 'foul_over_limit'}], 'first_free_throw_made': [{'initial_event': 'foul_over_limit'}, {'shot_fouled': True, 'shot_made': False}], 'middle_free_throw_made': [{'shot_fouled': True, '3_point_shot': True, 'shot_made': False}], 'last_free_throw_made': [{'initial_event': 'foul_over_limit'}, {'shot_fouled': True}], 'free_thrower': [{'initial_event': 'foul_over_limit'}, {'shot_fouled': True, 'shot_made': False}], 'rebound_type': [{'shot_made': False}, {'last_free_throw_made': False}], 'offensive_rebounder': [{'rebound_type': 'offensive'}], 'defensive_rebounder': [{'rebound_type': 'defensive'}]}\n"
     ]
    }
   ],
   "source": [
    "print(play.triggers)"
   ]
  },
  {
   "cell_type": "code",
   "execution_count": 15,
   "metadata": {},
   "outputs": [
    {
     "output_type": "stream",
     "name": "stdout",
     "text": [
      "{'embedding': ['offense_team', 'defense_team', 'shooter', 'shooting_fouler', 'assister', 'blocker', 'turnoverer', 'offensive_fouler', 'offensive_foul_drawer', 'stealer', 'common_fouler', 'common_foul_drawer', 'over_limit_fouler', 'over_limit_foul_drawer', 'free_thrower', 'offensive_rebounder', 'defensive_rebounder'], 'embedding_list': ['offense_roster', 'defense_roster'], 'bool': ['is_second_chance', 'shot_made', 'is_3', 'shot_fouled', 'assisted', 'blocked', 'offensive_foul', 'stolen', 'first_free_throw_made', 'middle_free_throw_made', 'last_free_throw_made'], 'choice': ['initial_event', 'shot_type', 'rebound_type'], 'scalar': ['shot_distance']}\n"
     ]
    }
   ],
   "source": [
    "from collections import defaultdict\n",
    "items_per_type = defaultdict(list)\n",
    "for k, v in play.types.items():\n",
    "    items_per_type[v].append(k)\n",
    "items_per_type = dict(items_per_type)\n",
    "print(items_per_type)"
   ]
  },
  {
   "cell_type": "code",
   "execution_count": 18,
   "metadata": {},
   "outputs": [
    {
     "output_type": "stream",
     "name": "stdout",
     "text": [
      "tensor([0., 0., 0., 0., 0., 0., 0., 0., 0., 0., 0.])\n"
     ]
    }
   ],
   "source": [
    "bools = t(len(items_per_type[\"bool\"])).float()\n",
    "print(bools)\n"
   ]
  },
  {
   "cell_type": "code",
   "execution_count": 39,
   "metadata": {},
   "outputs": [],
   "source": [
    "import oyaml\n",
    "class DataConfig():\n",
    "    def __init__(self, yaml_path):\n",
    "        path = oyaml.load(open(yaml_path, \"r\"), Loader=oyaml.Loader)\n",
    "\n",
    "        self.data_keys = []\n",
    "        self.triggers = {}\n",
    "        self.types = {}\n",
    "        self.is_embedding = {}\n",
    "        self.is_int = {}\n",
    "        self.slice_keys = {}\n",
    "        self.data_indices = {}\n",
    "        self.choice_keys = {}\n",
    "        self.choice_indices = {}\n",
    "        for k, v in path.items():\n",
    "            if v['type'] == 'embedding_list':\n",
    "                self.is_embedding[k] = True\n",
    "                self.is_int[k] = False\n",
    "                for i in range(v['len']):\n",
    "                    sub_key = k + \".\" + str(i)\n",
    "                    self.data_keys.append(sub_key)\n",
    "                    self.data_indices[sub_key] = len(self.data_keys)\n",
    "                    self.is_embedding[sub_key] = True\n",
    "                    self.is_int[sub_key] = False\n",
    "                start = self.data_indices[k + \".0\"]\n",
    "                end = len(self.data_keys)\n",
    "                self.slice_keys[k] = slice(start, end+1)\n",
    "            elif v['type'] == 'choice':\n",
    "                self.is_embedding[k] = False\n",
    "                self.is_int[k] = False\n",
    "                if type(v['choices']) is list:\n",
    "                    choices = v['choices']\n",
    "                else:\n",
    "                    choice_range = list(range(\n",
    "                        self.slice_keys[v['choices']].start,\n",
    "                        self.slice_keys[v['choices']].stop + 1\n",
    "                    ))\n",
    "                    choices = [self.data_keys[i] for i in choice_range]\n",
    "                for choice in choices:\n",
    "                    sub_key = k + \".\" + str(choice)\n",
    "                    self.data_keys.append(sub_key)\n",
    "                    self.data_indices[sub_key] = len(self.data_keys)\n",
    "                    self.is_embedding[sub_key] = False\n",
    "                    self.is_int[sub_key] = False\n",
    "                start = self.data_indices[k + \".\" + str(choices[0])] \n",
    "                end = len(self.data_keys)\n",
    "                self.slice_keys[k] = slice(start, end+1)\n",
    "                self.choice_keys[k] = choices\n",
    "                self.choice_indices[k] = {choice: i for i, choice in enumerate(choices)}\n",
    "            else:\n",
    "                self.data_keys.append(k)\n",
    "                self.is_embedding[k] = (v['type'] == 'embedding')\n",
    "                self.is_int[k] = (v['type'] == 'int')\n",
    "\n",
    "            if 'triggers' in v:\n",
    "                self.triggers[k] = v['triggers']\n",
    "            self.types[k] = v['type']"
   ]
  },
  {
   "cell_type": "code",
   "execution_count": 37,
   "metadata": {},
   "outputs": [
    {
     "output_type": "execute_result",
     "data": {
      "text/plain": [
       "{'offense_team': 'embedding',\n",
       " 'defense_team': 'embedding',\n",
       " 'offense_roster': 'embedding_list',\n",
       " 'defense_roster': 'embedding_list',\n",
       " 'is_second_chance': 'bool',\n",
       " 'initial_event': 'choice',\n",
       " 'shooter': 'embedding',\n",
       " 'shot_made': 'bool',\n",
       " 'is_3': 'bool',\n",
       " 'shot_distance': 'scalar',\n",
       " 'shot_type': 'choice',\n",
       " 'shot_fouled': 'bool',\n",
       " 'shooting_fouler': 'embedding',\n",
       " 'assisted': 'bool',\n",
       " 'assister': 'embedding',\n",
       " 'blocked': 'bool',\n",
       " 'blocker': 'embedding',\n",
       " 'turnoverer': 'embedding',\n",
       " 'offensive_foul': 'bool',\n",
       " 'offensive_fouler': 'embedding',\n",
       " 'offensive_foul_drawer': 'embedding',\n",
       " 'stolen': 'bool',\n",
       " 'stealer': 'embedding',\n",
       " 'common_fouler': 'embedding',\n",
       " 'common_foul_drawer': 'embedding',\n",
       " 'over_limit_fouler': 'embedding',\n",
       " 'over_limit_foul_drawer': 'embedding',\n",
       " 'first_free_throw_made': 'bool',\n",
       " 'middle_free_throw_made': 'bool',\n",
       " 'last_free_throw_made': 'bool',\n",
       " 'free_thrower': 'embedding',\n",
       " 'rebound_type': 'choice',\n",
       " 'offensive_rebounder': 'embedding',\n",
       " 'defensive_rebounder': 'embedding'}"
      ]
     },
     "metadata": {},
     "execution_count": 37
    }
   ],
   "source": [
    "d = DataConfig(\"src/data/play.yaml\")\n",
    "d.data_keys\n",
    "d.slice_keys"
   ]
  },
  {
   "cell_type": "code",
   "execution_count": null,
   "metadata": {},
   "outputs": [],
   "source": []
  }
 ]
}