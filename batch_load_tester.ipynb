{
 "metadata": {
  "language_info": {
   "codemirror_mode": {
    "name": "ipython",
    "version": 3
   },
   "file_extension": ".py",
   "mimetype": "text/x-python",
   "name": "python",
   "nbconvert_exporter": "python",
   "pygments_lexer": "ipython3",
   "version": "3.8.5"
  },
  "orig_nbformat": 2,
  "kernelspec": {
   "name": "python3",
   "display_name": "Python 3.8.5 64-bit ('base': conda)",
   "metadata": {
    "interpreter": {
     "hash": "4d777b8f6e85f47614db9219611b089ffc178d32a44539f41af5ea47da0b384a"
    }
   }
  }
 },
 "nbformat": 4,
 "nbformat_minor": 2,
 "cells": [
  {
   "source": [
    "from src.data.batch_loader import load_raw_data, accumulate_box_stats\n",
    "from src.data.game import Game\n",
    "import h5py"
   ],
   "cell_type": "code",
   "metadata": {},
   "execution_count": 1,
   "outputs": []
  },
  {
   "cell_type": "code",
   "execution_count": 2,
   "metadata": {},
   "outputs": [
    {
     "output_type": "stream",
     "name": "stdout",
     "text": [
      "Shooting <StatsFoul GameId: 0040100112, Description: Wallace S.FOUL (P2.T1), Time: 11:45, EventNum: 221>\n",
      "Shooting <StatsFoul GameId: 0040600103, Description: Dooling S.FOUL (P1.T1), Time: 11:45, EventNum: 129>\n",
      "Shooting <StatsFoul GameId: 0041400313, Description: Thompson S.FOUL (P2.T1) (Z.Zarba), Time: 11:47, EventNum: 309>\n",
      "Shooting <StatsFoul GameId: 0041700164, Description: Turner S.FOUL (P2.T4) (K.Fitzgerald), Time: 1:26, EventNum: 294>\n",
      "Shooting <StatsFoul GameId: 0020000628, Description: Van Horn S.FOUL (P2.PN), Time: 2:23, EventNum: 227>\n",
      "Shooting <StatsFoul GameId: 0020001057, Description: Dampier S.FOUL (P1.T1), Time: 10:46, EventNum: 143>\n",
      "Shooting <StatsFoul GameId: 0020100231, Description: Hassell S.FOUL (P3.T2), Time: 6:53, EventNum: 396>\n",
      "Shooting <StatsFoul GameId: 0020100947, Description: Russell S.FOUL (P2.T2), Time: 6:17, EventNum: 251>\n",
      "Shooting <StatsFoul GameId: 0020200401, Description: Evans S.FOUL (P1.T1), Time: 6:07, EventNum: 41>\n",
      "Shooting <StatsFoul GameId: 0020300463, Description: Buckner S.FOUL (P4.T4), Time: 8:23, EventNum: 383>\n",
      "Shooting <StatsFoul GameId: 0020300733, Description: Williams S.FOUL (P3.T3), Time: 6:25, EventNum: 288>\n",
      "Shooting <StatsFoul GameId: 0020300959, Description: Madsen S.FOUL (P3.PN), Time: 0:49, EventNum: 344>\n",
      "Shooting <StatsFoul GameId: 0020400493, Description: Jackson S.FOUL (P2.PN), Time: 7:55, EventNum: 184>\n",
      "PACERS Free Throw\n",
      "Shooting <StatsFoul GameId: 0020500311, Description: Kasun S.FOUL (P3.T1), Time: 11:44, EventNum: 386>\n",
      "Shooting <StatsFoul GameId: 0020500911, Description: Varejao S.FOUL (P1.T1), Time: 8:15, EventNum: 142>\n",
      "Shooting <StatsFoul GameId: 0020600792, Description: Richardson S.FOUL (P2.T3), Time: 6:21, EventNum: 289>\n",
      "Shooting <StatsFoul GameId: 0020600872, Description: Mohammed S.FOUL (P3.T3), Time: 1:39, EventNum: 205>\n",
      "Shooting <StatsFoul GameId: 0020600923, Description: Collins S.FOUL (P1.T3), Time: 4:33, EventNum: 61>\n",
      "Shooting <StatsFoul GameId: 0020700402, Description: Ellis S.FOUL (P1.T1), Time: 11:12, EventNum: 156>\n",
      "Shooting <StatsFoul GameId: 0020700796, Description: Mbenga S.FOUL (P1.T4), Time: 2:03, EventNum: 94>\n",
      "Shooting <StatsFoul GameId: 0020701084, Description: Williams S.FOUL (P4.T2), Time: 4:42, EventNum: 449>\n",
      "Shooting <StatsFoul GameId: 0021000970, Description: Granger S.FOUL (P2.PN), Time: 4:29, EventNum: 224>\n",
      "Shooting <StatsFoul GameId: 0021200357, Description: Miles S.FOUL (P3.T4), Time: 4:22, EventNum: 331>\n",
      "Shooting <StatsFoul GameId: 0021300594, Description: Jordan S.FOUL (P1.T1), Time: 11:45, EventNum: 266>\n",
      "Shooting <StatsFoul GameId: 0021500239, Description: Dudley S.FOUL (P1.T3) (D.Crawford), Time: 3:39, EventNum: 75>\n",
      "Shooting <StatsFoul GameId: 0021700021, Description: Middleton S.FOUL (P1.T3) (G.Petraitis), Time: 6:21, EventNum: 72>\n",
      "Shooting <StatsFoul GameId: 0021700035, Description: Richardson S.FOUL (P1.T4) (M.Callahan), Time: 0:51, EventNum: 468>\n",
      "Shooting <StatsFoul GameId: 0021700050, Description: Russell S.FOUL (P2.PN) (E.Lewis), Time: 2:20, EventNum: 714>\n",
      "2 (12 PTS)\n",
      "Shooting <StatsFoul GameId: 0021700236, Description: Dinwiddie S.FOUL (P2.T2) (B.Taylor), Time: 4:03, EventNum: 186>\n",
      "Shooting <StatsFoul GameId: 0021700285, Description: Ingles S.FOUL (P2.T2) (S.Twardoski), Time: 5:31, EventNum: 380>\n",
      "Shooting <StatsFoul GameId: 0021700407, Description: Baynes S.FOUL (P2.PN) (B.Spooner), Time: 0:28, EventNum: 385>\n",
      "Shooting <StatsFoul GameId: 0021700514, Description: O'Neale S.FOUL (P1.T3) (K.Lane), Time: 5:09, EventNum: 243>\n",
      "Shooting <StatsFoul GameId: 0021700535, Description: Livingston S.FOUL (P3.PN) (N.Buchert), Time: 4:53, EventNum: 579>\n",
      "Shooting <StatsFoul GameId: 0021701070, Description: Brown S.FOUL (P3.PN) (M.Kogut), Time: 5:39, EventNum: 253>\n",
      "Shooting <StatsFoul GameId: 0021800484, Description: Curry S.FOUL (P3.PN) (J.Orr), Time: 3:54, EventNum: 437>\n"
     ]
    }
   ],
   "source": [
    "with h5py.File(\"cache/full_db_v2.h5\", 'a') as db:\n",
    "    load_raw_data(db, years=range(2001, 2020))"
   ]
  },
  {
   "cell_type": "code",
   "execution_count": 5,
   "metadata": {},
   "outputs": [
    {
     "output_type": "stream",
     "name": "stdout",
     "text": [
      "'matt-maloney'\n",
      "'marcus-fizer'\n",
      "'antonio-mcdyess'\n",
      "'peja-stojakovic'\n",
      "'ansu-sesay'\n",
      "'donnell-harvey'\n",
      "'jerome-james'\n",
      "'paul-pierce'\n",
      "'bryon-russell'\n",
      "'malik-rose'\n",
      "'bo-outlaw'\n",
      "'dale-davis'\n",
      "'bo-outlaw'\n",
      "'shaquille-oneal'\n",
      "'chuck-hayes'\n",
      "'devin-brown'\n",
      "'anderson-varejao'\n",
      "'al-jefferson'\n",
      "'shaquille-oneal'\n",
      "'shaquille-oneal'\n",
      "'paul-millsap'\n",
      "'carlos-boozer'\n",
      "'nene-hilario'\n",
      "'armon-johnson'\n",
      "'rajon-rondo'\n",
      "'demar-derozan'\n",
      "'james-harden'\n",
      "'amare-stoudemire'\n",
      "'al-harrington'\n",
      "'tayshaun-prince'\n",
      "'chase-budinger'\n",
      "'klay-thompson'\n",
      "'demar-derozan'\n",
      "'trevor-ariza'\n",
      "'paul-george'\n",
      "'timofey-mozgov'\n",
      "'james-harden'\n",
      "'jamychal-green'\n",
      "'jusuf-nurkic'\n",
      "'kenneth-faried'\n",
      "'kyle-lowry'\n",
      "'marcin-gortat'\n",
      "'gerald-henderson'\n",
      "'juancho-hernangomez'\n",
      "'kenneth-faried'\n",
      "'danilo-gallinari'\n",
      "'devin-harris'\n",
      "'okaro-white'\n",
      "'solomon-hill'\n",
      "'ish-smith'\n",
      "'kevin-love'\n",
      "'joel-embiid'\n",
      "'kyle-kuzma'\n",
      "'wesley-johnson'\n",
      "'josh-jackson'\n",
      "'thaddeus-young'\n",
      "'malik-beasley'\n",
      "'jason-smith'\n",
      "'joel-embiid'\n",
      "'garrett-temple'\n",
      "'dangelo-russell'\n",
      "'al-horford'\n",
      "'rajon-rondo'\n",
      "'salah-mejri'\n",
      "'spencer-dinwiddie'\n",
      "'kyle-korver'\n",
      "'ricky-rubio'\n",
      "'lou-williams'\n",
      "'jason-smith'\n",
      "'deandre-bembry'\n",
      "'julius-randle'\n",
      "'rudy-gobert'\n",
      "'kyle-oquinn'\n",
      "'michael-kidd-gilchrist'\n",
      "'pj-tucker'\n",
      "'mason-plumlee'\n",
      "'steven-adams'\n",
      "'grayson-allen'\n",
      "'buddy-hield'\n",
      "'jamychal-green'\n",
      "'justin-jackson'\n",
      "'seth-curry'\n",
      "'quincy-acy'\n",
      "'ersan-ilyasova'\n",
      "'nerlens-noel'\n",
      "'meyers-leonard'\n",
      "'steven-adams'\n",
      "'jeremy-lin'\n",
      "'ray-spalding'\n",
      "'bruce-brown'\n",
      "'larry-nance-jr'\n"
     ]
    }
   ],
   "source": [
    "db = h5py.File(\"full_db.h5\", 'a')\n",
    "accumulate_box_stats(db)\n",
    "db.close()"
   ]
  },
  {
   "cell_type": "code",
   "execution_count": 14,
   "metadata": {},
   "outputs": [
    {
     "output_type": "stream",
     "name": "stdout",
     "text": [
      "                    pts    2pa    2pm    3pm    3pa    ftm    fta    orb    drb    ast    stl    blk    tov    pfs    o+-    d+-    o_pos    d_pos\n----------------  -----  -----  -----  -----  -----  -----  -----  -----  -----  -----  -----  -----  -----  -----  -----  -----  -------  -------\nbrian-cook          452    220     95     78    199     28     37     63    153     35     23     26     29    139   2272  -2182     2317     2290\nbrian-grant         249    202     96      0      0     57     79    101    156     34     23     23     43    162   2265  -2395     2424     2470\ncaron-butler       1124    833    370     38    125    270    311    146    304    146    110     23    125    172   5636  -5860     5955     6001\nchris-mihm          703    534    264      0      2    175    258    197    305     50     14    108    110    221   3765  -3918     4045     4077\nchucky-atkins      1095    446    203    176    455    161    199     31    166    358     73      2    151    157   6097  -6229     6328     6373\ndevean-george       108     45     15     21     58     15     19     13     40     14      8      2     12     28    616   -682      685      663\njumaine-jones       571    222    105    102    261     55     73    107    291     65     44     24     49    158   3741  -3757     3900     3921\nkareem-rush          10     10      2      2     10      0      0      3      7      3      2      1      3      6    179   -205      195      197\nkobe-bryant        1683    883    388    130    386    517    629     95    297    398     86     53    270    149   5565  -5661     5815     5807\nlamar-odom          897    618    291     36    117    207    297    134    519    238     42     65    162    185   4686  -4782     4960     4992\nluke-walton         186    113     52     16     61     34     48     55     87     93     26     11     58     62   1471  -1585     1666     1637\nsasha-vujacic       101     54     16     17     63     18     18     13     49     51     12      2     15     40    842   -823      894      869\nslava-medvedenko    163    154     70      0      1     23     29     31     48     13      9      2     13     63    870   -889      924      922\ntierre-brown        318    269     91     26     72     58     73     21     72    155     32      1     74     50   2018  -2107     2205     2210\ntony-bobbitt          5      3      1      1      2      0      0      0      3      0      0      0      0      1     26    -27       26       29\nvlade-divac          26     27      9      0      0      8     12     18     14     19      4      1     14     22    251   -283      296      282\n"
     ]
    }
   ],
   "source": [
    "import msgpack\n",
    "from src.data.box_stats import Box_stats\n",
    "team = \"LAL\"\n",
    "season = \"2005_regular\"\n",
    "season = \"2005_regular\"\n",
    "db = h5py.File(\"full_db.h5\", \"r\")\n",
    "with open(f\"metadata/rosters/{season}\", \"rb\") as f:\n",
    "    rosters = msgpack.load(f)\n",
    "box_stats = Box_stats(rosters[team], db[f'{season}/stats/{team}'][:])\n",
    "print(box_stats)\n",
    "db.close()"
   ]
  },
  {
   "cell_type": "code",
   "execution_count": 13,
   "metadata": {},
   "outputs": [
    {
     "output_type": "stream",
     "name": "stdout",
     "text": [
      "                    pts    2pa    2pm    3pm    3pa    ftm    fta    orb    drb    ast    stl    blk    tov    pfs    o+-    d+-    o_pos    d_pos\n----------------  -----  -----  -----  -----  -----  -----  -----  -----  -----  -----  -----  -----  -----  -----  -----  -----  -------  -------\nbrian-shaw          420    276    122     42    135     50     62     48    256    258     49     27     97    154   3743  -3672     3994     3980\nderek-fisher        220    121     49     25     63     47     57      5     54     87     39      2     29     45   1539  -1370     1545     1503\ndevean-george       176    136     46     15     68     39     55     35     75     19     15     15     34     76   1083  -1172     1283     1286\ngreg-foster         125    124     53      3      9     10     14     29     83     32      9     12     24     70    788   -900      950      950\nhorace-grant        633    554    251      0      3    131    170    220    325    121     51     61     48    174   4999  -4701     5196     5158\nisaiah-rider        493    375    162     34     92     67     79     44    112    111     27      7     98     90   2423  -2449     2621     2598\nkobe-bryant        1807   1260    590     60    199    447    523    104    295    338    114     43    220    176   5889  -5524     6135     6048\nmark-madsen         131    109     51      1      1     26     39     74     78     24      8      8     27    100   1198  -1290     1407     1398\nmike-penberthy      262     83     37     55    139     23     24     10     53     71     22      2     34     53   1729  -1745     1870     1872\nrick-fox            760    334    157    118    300     92    120     80    245    262     70     29    136    210   4822  -4543     5043     4981\nrobert-horry        401    221     90     54    156     59     83     93    203    128     54     54     79    196   3238  -3196     3435     3446\nron-harper          297    194    103     19     72     34     49     46    120    113     39     25     62     60   2338  -2262     2483     2476\nshaquille-oneal    1894   1305    698      0      2    498    975    291    649    277     47    204    218    217   6234  -5785     6357     6299\nslava-medvedenko     32     24     11      1      1      7     12      1      8      2      1      1      3      8     94    -95       96      104\ntyronn-lue          127     82     38     11     34     18     23      5     27     45     19      0     27     52    918   -961     1025     1021\n"
     ]
    },
    {
     "output_type": "error",
     "ename": "KeyError",
     "evalue": "'stephen-curry'",
     "traceback": [
      "\u001b[0;31m---------------------------------------------------------------------------\u001b[0m",
      "\u001b[0;31mKeyError\u001b[0m                                  Traceback (most recent call last)",
      "\u001b[0;32m<ipython-input-13-7f3bb27a9792>\u001b[0m in \u001b[0;36m<module>\u001b[0;34m\u001b[0m\n\u001b[1;32m      1\u001b[0m \u001b[0mprint\u001b[0m\u001b[0;34m(\u001b[0m\u001b[0mbox_stats\u001b[0m\u001b[0;34m)\u001b[0m\u001b[0;34m\u001b[0m\u001b[0;34m\u001b[0m\u001b[0m\n\u001b[0;32m----> 2\u001b[0;31m \u001b[0msteph_stats\u001b[0m \u001b[0;34m=\u001b[0m \u001b[0mbox_stats\u001b[0m\u001b[0;34m[\u001b[0m\u001b[0;34m'stephen-curry'\u001b[0m\u001b[0;34m,\u001b[0m\u001b[0;34m:\u001b[0m\u001b[0;34m]\u001b[0m\u001b[0;34m\u001b[0m\u001b[0;34m\u001b[0m\u001b[0m\n\u001b[0m\u001b[1;32m      3\u001b[0m \u001b[0mincorrect_steph_stats\u001b[0m \u001b[0;34m=\u001b[0m \u001b[0;34m[\u001b[0m\u001b[0;36m379\u001b[0m\u001b[0;34m,\u001b[0m \u001b[0;36m155\u001b[0m\u001b[0;34m,\u001b[0m \u001b[0;36m73\u001b[0m\u001b[0;34m,\u001b[0m \u001b[0;36m64\u001b[0m\u001b[0;34m,\u001b[0m \u001b[0;36m162\u001b[0m\u001b[0;34m,\u001b[0m \u001b[0;36m41\u001b[0m\u001b[0;34m,\u001b[0m \u001b[0;36m38\u001b[0m\u001b[0;34m,\u001b[0m \u001b[0;36m9\u001b[0m\u001b[0;34m,\u001b[0m \u001b[0;36m82\u001b[0m\u001b[0;34m,\u001b[0m \u001b[0;36m81\u001b[0m\u001b[0;34m,\u001b[0m \u001b[0;36m26\u001b[0m\u001b[0;34m,\u001b[0m \u001b[0;36m11\u001b[0m\u001b[0;34m,\u001b[0m \u001b[0;36m43\u001b[0m\u001b[0;34m,\u001b[0m \u001b[0;36m34\u001b[0m\u001b[0;34m,\u001b[0m \u001b[0;36m1300\u001b[0m\u001b[0;34m,\u001b[0m \u001b[0;34m-\u001b[0m\u001b[0;36m1151\u001b[0m\u001b[0;34m,\u001b[0m \u001b[0;36m1228\u001b[0m\u001b[0;34m,\u001b[0m \u001b[0;36m1247\u001b[0m\u001b[0;34m]\u001b[0m\u001b[0;34m\u001b[0m\u001b[0;34m\u001b[0m\u001b[0m\n\u001b[1;32m      4\u001b[0m \u001b[0;31m# This is not quite correct, check out https://www.basketball-reference.com/teams/GSW/2018.html#playoffs_totals\u001b[0m\u001b[0;34m\u001b[0m\u001b[0;34m\u001b[0m\u001b[0;34m\u001b[0m\u001b[0m\n\u001b[1;32m      5\u001b[0m \u001b[0mprint\u001b[0m\u001b[0;34m(\u001b[0m\u001b[0msteph_stats\u001b[0m\u001b[0;34m)\u001b[0m\u001b[0;34m\u001b[0m\u001b[0;34m\u001b[0m\u001b[0m\n",
      "\u001b[0;32m~/nbai/src/data/box_stats.py\u001b[0m in \u001b[0;36m__getitem__\u001b[0;34m(self, key)\u001b[0m\n\u001b[1;32m     30\u001b[0m             \u001b[0mplayer_idx\u001b[0m \u001b[0;34m=\u001b[0m \u001b[0mplayer\u001b[0m\u001b[0;34m\u001b[0m\u001b[0;34m\u001b[0m\u001b[0m\n\u001b[1;32m     31\u001b[0m         \u001b[0;32melse\u001b[0m\u001b[0;34m:\u001b[0m\u001b[0;34m\u001b[0m\u001b[0;34m\u001b[0m\u001b[0m\n\u001b[0;32m---> 32\u001b[0;31m             \u001b[0mplayer_idx\u001b[0m \u001b[0;34m=\u001b[0m \u001b[0mself\u001b[0m\u001b[0;34m.\u001b[0m\u001b[0mplayer_idxes\u001b[0m\u001b[0;34m[\u001b[0m\u001b[0mplayer\u001b[0m\u001b[0;34m]\u001b[0m\u001b[0;34m\u001b[0m\u001b[0;34m\u001b[0m\u001b[0m\n\u001b[0m\u001b[1;32m     33\u001b[0m \u001b[0;34m\u001b[0m\u001b[0m\n\u001b[1;32m     34\u001b[0m         \u001b[0;32mif\u001b[0m \u001b[0mtype\u001b[0m\u001b[0;34m(\u001b[0m\u001b[0mcategory\u001b[0m\u001b[0;34m)\u001b[0m \u001b[0;32mis\u001b[0m \u001b[0mslice\u001b[0m\u001b[0;34m:\u001b[0m\u001b[0;34m\u001b[0m\u001b[0;34m\u001b[0m\u001b[0m\n",
      "\u001b[0;31mKeyError\u001b[0m: 'stephen-curry'"
     ]
    }
   ],
   "source": [
    "\n",
    "\n",
    "steph_stats = box_stats['stephen-curry',:]\n",
    "incorrect_steph_stats = [379, 155, 73, 64, 162, 41, 38, 9, 82, 81, 26, 11, 43, 34, 1300, -1151, 1228, 1247]\n",
    "# This is not quite correct, check out https://www.basketball-reference.com/teams/GSW/2018.html#playoffs_totals\n",
    "print(steph_stats)\n",
    "print(list(steph_stats))\n",
    "assert list(steph_stats) == incorrect_steph_stats"
   ]
  },
  {
   "cell_type": "code",
   "execution_count": null,
   "metadata": {},
   "outputs": [],
   "source": []
  }
 ]
}