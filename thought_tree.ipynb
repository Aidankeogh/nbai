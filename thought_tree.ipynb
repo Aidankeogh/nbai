{
 "metadata": {
  "language_info": {
   "codemirror_mode": {
    "name": "ipython",
    "version": 3
   },
   "file_extension": ".py",
   "mimetype": "text/x-python",
   "name": "python",
   "nbconvert_exporter": "python",
   "pygments_lexer": "ipython3",
   "version": "3.8.5"
  },
  "orig_nbformat": 2,
  "kernelspec": {
   "name": "python3",
   "display_name": "Python 3.8.5 64-bit ('base': conda)",
   "metadata": {
    "interpreter": {
     "hash": "4d777b8f6e85f47614db9219611b089ffc178d32a44539f41af5ea47da0b384a"
    }
   }
  }
 },
 "nbformat": 4,
 "nbformat_minor": 2,
 "cells": [
  {
   "cell_type": "code",
   "execution_count": 1,
   "metadata": {},
   "outputs": [],
   "source": [
    "import h5py\n",
    "import torch\n",
    "from src.data.play import Play, slice_keys\n",
    "from src.utilities.embedding_utilities import n_players\n",
    "from torch.nn import Embedding\n",
    "from torch import Tensor as t"
   ]
  },
  {
   "cell_type": "code",
   "execution_count": 2,
   "metadata": {},
   "outputs": [],
   "source": [
    "db = h5py.File(\"cache/full_db.h5\", \"r\")"
   ]
  },
  {
   "cell_type": "code",
   "execution_count": 3,
   "metadata": {},
   "outputs": [],
   "source": [
    "i = 0\n",
    "plays = []\n",
    "for p in db[\"2016_regular/plays\"][0:10]:\n",
    "    play = Play(p)\n",
    "    plays.append(play)"
   ]
  },
  {
   "cell_type": "code",
   "execution_count": 4,
   "metadata": {},
   "outputs": [
    {
     "output_type": "execute_result",
     "data": {
      "text/plain": [
       "jeff-teague missed 2 point LongMidRange | Defensive rebound by andre-drummond "
      ]
     },
     "metadata": {},
     "execution_count": 4
    }
   ],
   "source": [
    "play"
   ]
  },
  {
   "cell_type": "code",
   "execution_count": 5,
   "metadata": {},
   "outputs": [
    {
     "output_type": "stream",
     "name": "stdout",
     "text": [
      "{'shooter': [{'initial_event': 'shot'}], 'shot_made': [{'initial_event': 'shot'}], 'is_3': [{'initial_event': 'shot'}], 'shot_distance': [{'initial_event': 'shot'}], 'shot_fouled': [{'initial_event': 'shot'}], 'shooting_fouler': [{'shot_fouled': True}], 'assisted': [{'initial_event': 'shot'}], 'assister': [{'initial_event': 'shot'}], 'blocked': [{'shot_made': False}], 'blocker': [{'blocked': True}], 'turnoverer': [{'initial_event': 'turnover'}], 'offensive_foul': [{'initial_event': 'turnover'}], 'offensive_fouler': [{'offensive_foul': True}], 'offensive_foul_drawer': [{'offensive_foul': True}], 'stolen': [{'initial_event': 'turnover'}], 'stealer': [{'stolen': True}], 'over_limit_fouler': [{'initial_event': 'foul_over_limit'}], 'over_limit_foul_drawer': [{'initial_event': 'foul_over_limit'}], 'first_free_throw_made': [{'initial_event': 'foul_over_limit'}, {'shot_fouled': True, 'shot_made': False}], 'middle_free_throw_made': [{'shot_fouled': True, '3_point_shot': True, 'shot_made': False}], 'last_free_throw_made': [{'initial_event': 'foul_over_limit'}, {'shot_fouled': True}], 'free_thrower': [{'initial_event': 'foul_over_limit'}, {'shot_fouled': True, 'shot_made': False}], 'rebound_type': [{'shot_made': False}, {'last_free_throw_made': False}], 'offensive_rebounder': [{'rebound_type': 'offensive'}], 'defensive_rebounder': [{'rebound_type': 'defensive'}]}\n"
     ]
    }
   ],
   "source": [
    "print(play.triggers)"
   ]
  },
  {
   "cell_type": "code",
   "execution_count": 7,
   "metadata": {},
   "outputs": [
    {
     "output_type": "stream",
     "name": "stdout",
     "text": [
      "defaultdict(<class 'list'>, {'embedding': ['offense_team', 'defense_team', 'shooter', 'shooting_fouler', 'assister', 'blocker', 'turnoverer', 'offensive_fouler', 'offensive_foul_drawer', 'stealer', 'common_fouler', 'common_foul_drawer', 'over_limit_fouler', 'over_limit_foul_drawer', 'free_thrower', 'offensive_rebounder', 'defensive_rebounder'], 'embedding_list': ['offense_roster', 'defense_roster'], 'bool': ['is_second_chance', 'shot_made', 'is_3', 'shot_fouled', 'assisted', 'blocked', 'offensive_foul', 'stolen', 'first_free_throw_made', 'middle_free_throw_made', 'last_free_throw_made'], 'choice': ['initial_event', 'shot_type', 'rebound_type'], 'scalar': ['shot_distance']})\n"
     ]
    }
   ],
   "source": [
    "from collections import defaultdict\n",
    "items_per_type = defaultdict(list)\n",
    "for k, v in play.types.items():\n",
    "    items_per_type[v].append(k)\n",
    "\n",
    "print(items_per_type)"
   ]
  },
  {
   "cell_type": "code",
   "execution_count": null,
   "metadata": {},
   "outputs": [],
   "source": []
  }
 ]
}